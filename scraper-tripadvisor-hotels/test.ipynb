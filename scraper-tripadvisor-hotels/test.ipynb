from selenium import webdriver
# from selenium.webdriver.chrome.options import Options
from selenium.webdriver.common.by import By
# from selenium.webdriver.common.keys import Keys
# from selenium.webdriver.support.ui import WebDriverWait
from selenium.webdriver.support.expected_conditions import presence_of_element_located
from selenium.common.exceptions import ElementNotInteractableException
from selenium.common.exceptions import ElementClickInterceptedException
from selenium.common.exceptions import NoSuchElementException
from selenium.common.exceptions import StaleElementReferenceException
import pandas as pd
import time
import sys


def next_page(driver):
    try:
        driver.find_element_by_xpath('.//a[@class="ui_button nav next primary "]').click()
        return False
    except ElementClickInterceptedException as e1:
        driver.find_element_by_xpath('.//button[@class="_3VKU_-kL"]').click()
        driver.find_element_by_xpath('.//a[@class="ui_button nav next primary "]').click()
    except NoSuchElementException as e2: # last page of all reviews
        return True

def get_url_at_page(url, page):
    if page > 0:
        pos = url.find("Reviews-")
        result = url[:pos + 7] + "-or" + str(page * 5) + url[pos + 7:]
    else:
        result = url
    return result

hotels = pd.read_csv('hotels.csv', index_col=0)
driver = webdriver.Chrome()

for i, hotel in hotels.iterrows():
    url = hotel['name']
    if hotel['done'] > 0:
        continue
    driver.get(url)
    hotel_name = driver.find_element(By.ID, "HEADING").text

    print(hotel_name)
    isRun = True
    while isRun:
        isRun = False
        columns = ['page', 'user', 'country', 'date_post', 'date_stay', 'rating', 'title', 'review_text', 'trip_type',
                   'helpful']
        try:
            reviews = pd.read_csv("reviews_" + hotel_name + ".csv", index_col=False)
            if len(reviews) == 0:
                page = 1
            else:
                page = int(reviews.tail(1)['page']) + 1
        except FileNotFoundError as e:
            reviews = pd.DataFrame(columns=columns)
            reviews.to_csv("reviews_" + hotel_name + ".csv", index=False)
            page = 0

        driver.get(get_url_at_page(url, page))
        # change the value inside the range to save more or less reviews
        isStop = False
        while not isStop:
            # expand the review
            time.sleep(0.6)
            try:
                isExpand = True
                while isExpand:
                    try:
                        driver.find_element_by_xpath(".//div[contains(@data-test-target, 'expand-review')]").click()
                        isExpand = False
                    except ElementNotInteractableException as e1:
                        time.sleep(0.3)
                    except NoSuchElementException as e2:
                        next_page(driver)
                        isExpand = False
                container = driver.find_elements_by_xpath("//div[@data-reviewid]")
                dates = driver.find_elements_by_xpath(".//div[@class='_2fxQ4TOx']")
                review_info = driver.find_elements_by_xpath(".//div[@class='_1EpRX7o3']")

                for j in range(len(container)):
                    user = \
                    dates[j].find_element_by_xpath(".//a[contains(@class, 'ui_header_link _1r_My98y')]").get_attribute(
                        "href").split("/")[-1]
                    if len(review_info[j].find_elements(By.XPATH, ".//span[contains(@class, '_1TuWwpYf')]")) > 0:
                        country = review_info[j].find_element_by_xpath(".//span[contains(@class, '_1TuWwpYf')]").text
                    else:
                        country = "nil"
                    rating = container[j].find_element_by_xpath(
                        ".//span[contains(@class, 'ui_bubble_rating bubble_')]").get_attribute(
                        "class").split("_")[3]
                    title = container[j].find_element_by_xpath(".//div[contains(@data-test-target, 'review-title')]").text
                    review_text = container[j].find_element_by_xpath(".//q[@class='IRsGHoPm']").text.replace("\n", "  ")
                    date_post = " ".join(dates[j].text.split(" ")[-2:])
                    if len(container[j].find_elements(By.XPATH, ".//span[contains(@class, '_34Xs-BQm')]")) > 0:
                        date_stay = \
                        container[j].find_element_by_xpath(".//span[contains(@class, '_34Xs-BQm')]").text.split(":")[
                            1].strip()
                    else:
                        date_stay = "nil"
                    if len(container[j].find_elements(By.XPATH, ".//span[contains(@class, '_2bVY3aT5')]")) > 0:
                        trip_type = \
                        container[j].find_element_by_xpath(".//span[contains(@class, '_2bVY3aT5')]").text.split(":")[
                            1].strip()
                    else:
                        trip_type = "nil"
                    if len(container[j].find_elements(By.XPATH, ".//span[contains(@class, '_3kbymg8R _2o1bmw1O')]")) > 0:
                        helpful = \
                        container[j].find_element_by_xpath(".//span[contains(@class, '_3kbymg8R _2o1bmw1O')]").text.split(
                            ' ')[0]
                    else:
                        helpful = 0
                    new_entry = pd.DataFrame(
                        [[page, user, country, date_post, date_stay, rating, title, review_text, trip_type, helpful]],
                        columns=columns)
                    # print(new_entry)
                    if not (date_post[-4:-2] == "20" and int(date_post[-4:]) < 2018):
                        new_entry.to_csv("reviews_" + hotel_name + ".csv", mode='a', header=False, index=False)
                    if date_post[-4:-2] == "20" and int(date_post[-4:]) < 2018:
                        isStop = True
                        break
                if next_page(driver):
                    break
                page += 1
            except StaleElementReferenceException as e:
                print('stale')
                isRun = True
                break
    hotels.loc[i, 'done'] = len(pd.read_csv("reviews_" + hotel_name + ".csv"))
    hotels.to_csv('hotels.csv')
