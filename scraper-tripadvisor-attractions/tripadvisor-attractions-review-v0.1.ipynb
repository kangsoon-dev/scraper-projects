{
 "cells": [
  {
   "cell_type": "code",
   "execution_count": 3,
   "metadata": {},
   "outputs": [],
   "source": [
    "from selenium import webdriver\n",
    "# from selenium.webdriver.chrome.options import Options\n",
    "from selenium.webdriver.common.by import By\n",
    "# from selenium.webdriver.common.keys import Keys\n",
    "# from selenium.webdriver.support.ui import WebDriverWait\n",
    "from selenium.webdriver.support.expected_conditions import presence_of_element_located\n",
    "from selenium.common.exceptions import ElementNotInteractableException\n",
    "from selenium.common.exceptions import ElementClickInterceptedException\n",
    "from selenium.common.exceptions import NoSuchElementException\n",
    "from selenium.common.exceptions import StaleElementReferenceException\n",
    "import pandas as pd\n",
    "import time\n",
    "import sys"
   ]
  },
  {
   "cell_type": "code",
   "execution_count": 4,
   "metadata": {},
   "outputs": [],
   "source": [
    "def next_page(driver):\n",
    "    try:\n",
    "        driver.find_element_by_xpath('.//div[@class=\"_3djM0GaD\"]').click()\n",
    "        return False\n",
    "    # except ElementClickInterceptedException as e1:\n",
    "    #     driver.find_element_by_xpath('.//button[@class=\"_3VKU_-kL\"]').click()\n",
    "    #     driver.find_element_by_xpath('.//a[@class=\"ui_button nav next primary \"]').click()\n",
    "    except NoSuchElementException as e2: # last page of all reviews\n",
    "        return True"
   ]
  },
  {
   "cell_type": "code",
   "execution_count": 5,
   "metadata": {},
   "outputs": [],
   "source": [
    "# def get_url_at_page(url, page):\n",
    "#     if page > 0:\n",
    "#         pos = url.find(\"Reviews-\")\n",
    "#         result = url[:pos + 7] + \"-or\" + str(page * 5) + url[pos + 7:]\n",
    "#     else:\n",
    "#         result = url\n",
    "#     return result"
   ]
  },
  {
   "cell_type": "code",
   "execution_count": 9,
   "metadata": {},
   "outputs": [
    {
     "name": "stdout",
     "output_type": "stream",
     "text": [
      "https://www.tripadvisor.com.sg/Attraction_Review-g294264-d2439664-Reviews-Universal_Studios_Singapore-Sentosa_Island.html\n",
      "Universal Studios Singapore\n"
     ]
    },
    {
     "ename": "NoSuchElementException",
     "evalue": "Message: no such element: Unable to locate element: {\"method\":\"xpath\",\"selector\":\"//div[@class='_1c8_1ITO']\"}\n  (Session info: chrome=98.0.4758.102)\n",
     "output_type": "error",
     "traceback": [
      "\u001b[1;31m---------------------------------------------------------------------------\u001b[0m",
      "\u001b[1;31mNoSuchElementException\u001b[0m                    Traceback (most recent call last)",
      "\u001b[1;32mc:\\Users\\ks_05\\Python Projects\\scraper-tripadvisor\\Untitled-1.ipynb Cell 4'\u001b[0m in \u001b[0;36m<cell line: 6>\u001b[1;34m()\u001b[0m\n\u001b[0;32m     <a href='vscode-notebook-cell:/c%3A/Users/ks_05/Python%20Projects/scraper-tripadvisor/Untitled-1.ipynb#ch0000000?line=34'>35</a>\u001b[0m time\u001b[39m.\u001b[39msleep(\u001b[39m0.6\u001b[39m)\n\u001b[0;32m     <a href='vscode-notebook-cell:/c%3A/Users/ks_05/Python%20Projects/scraper-tripadvisor/Untitled-1.ipynb#ch0000000?line=35'>36</a>\u001b[0m \u001b[39mtry\u001b[39;00m:\n\u001b[0;32m     <a href='vscode-notebook-cell:/c%3A/Users/ks_05/Python%20Projects/scraper-tripadvisor/Untitled-1.ipynb#ch0000000?line=36'>37</a>\u001b[0m     \u001b[39m# isExpand = True\u001b[39;00m\n\u001b[0;32m     <a href='vscode-notebook-cell:/c%3A/Users/ks_05/Python%20Projects/scraper-tripadvisor/Untitled-1.ipynb#ch0000000?line=37'>38</a>\u001b[0m     \u001b[39m# while isExpand:\u001b[39;00m\n\u001b[1;32m   (...)\u001b[0m\n\u001b[0;32m     <a href='vscode-notebook-cell:/c%3A/Users/ks_05/Python%20Projects/scraper-tripadvisor/Untitled-1.ipynb#ch0000000?line=44'>45</a>\u001b[0m     \u001b[39m#         next_page(driver)\u001b[39;00m\n\u001b[0;32m     <a href='vscode-notebook-cell:/c%3A/Users/ks_05/Python%20Projects/scraper-tripadvisor/Untitled-1.ipynb#ch0000000?line=45'>46</a>\u001b[0m     \u001b[39m#         isExpand = False\u001b[39;00m\n\u001b[1;32m---> <a href='vscode-notebook-cell:/c%3A/Users/ks_05/Python%20Projects/scraper-tripadvisor/Untitled-1.ipynb#ch0000000?line=46'>47</a>\u001b[0m     container \u001b[39m=\u001b[39m driver\u001b[39m.\u001b[39;49mfind_element_by_xpath(\u001b[39m\"\u001b[39;49m\u001b[39m//div[@class=\u001b[39;49m\u001b[39m'\u001b[39;49m\u001b[39m_1c8_1ITO\u001b[39;49m\u001b[39m'\u001b[39;49m\u001b[39m]\u001b[39;49m\u001b[39m\"\u001b[39;49m)\n\u001b[0;32m     <a href='vscode-notebook-cell:/c%3A/Users/ks_05/Python%20Projects/scraper-tripadvisor/Untitled-1.ipynb#ch0000000?line=47'>48</a>\u001b[0m     reviews_list \u001b[39m=\u001b[39m container\u001b[39m.\u001b[39mfind_elements_by_xpath(\u001b[39m\"\u001b[39m\u001b[39m./*\u001b[39m\u001b[39m\"\u001b[39m)\n\u001b[0;32m     <a href='vscode-notebook-cell:/c%3A/Users/ks_05/Python%20Projects/scraper-tripadvisor/Untitled-1.ipynb#ch0000000?line=49'>50</a>\u001b[0m     \u001b[39mfor\u001b[39;00m j \u001b[39min\u001b[39;00m \u001b[39mrange\u001b[39m(\u001b[39mlen\u001b[39m(reviews_list[:\u001b[39m-\u001b[39m\u001b[39m1\u001b[39m])):\n\u001b[0;32m     <a href='vscode-notebook-cell:/c%3A/Users/ks_05/Python%20Projects/scraper-tripadvisor/Untitled-1.ipynb#ch0000000?line=50'>51</a>\u001b[0m         \u001b[39m# sort data out\u001b[39;00m\n",
      "File \u001b[1;32m~\\AppData\\Local\\Programs\\Python\\Python38-32\\lib\\site-packages\\selenium\\webdriver\\remote\\webdriver.py:394\u001b[0m, in \u001b[0;36mWebDriver.find_element_by_xpath\u001b[1;34m(self, xpath)\u001b[0m\n\u001b[0;32m    <a href='file:///c%3A/Users/ks_05/AppData/Local/Programs/Python/Python38-32/lib/site-packages/selenium/webdriver/remote/webdriver.py?line=377'>378</a>\u001b[0m \u001b[39mdef\u001b[39;00m \u001b[39mfind_element_by_xpath\u001b[39m(\u001b[39mself\u001b[39m, xpath):\n\u001b[0;32m    <a href='file:///c%3A/Users/ks_05/AppData/Local/Programs/Python/Python38-32/lib/site-packages/selenium/webdriver/remote/webdriver.py?line=378'>379</a>\u001b[0m     \u001b[39m\"\"\"\u001b[39;00m\n\u001b[0;32m    <a href='file:///c%3A/Users/ks_05/AppData/Local/Programs/Python/Python38-32/lib/site-packages/selenium/webdriver/remote/webdriver.py?line=379'>380</a>\u001b[0m \u001b[39m    Finds an element by xpath.\u001b[39;00m\n\u001b[0;32m    <a href='file:///c%3A/Users/ks_05/AppData/Local/Programs/Python/Python38-32/lib/site-packages/selenium/webdriver/remote/webdriver.py?line=380'>381</a>\u001b[0m \n\u001b[1;32m   (...)\u001b[0m\n\u001b[0;32m    <a href='file:///c%3A/Users/ks_05/AppData/Local/Programs/Python/Python38-32/lib/site-packages/selenium/webdriver/remote/webdriver.py?line=391'>392</a>\u001b[0m \u001b[39m        element = driver.find_element_by_xpath('//div/td[1]')\u001b[39;00m\n\u001b[0;32m    <a href='file:///c%3A/Users/ks_05/AppData/Local/Programs/Python/Python38-32/lib/site-packages/selenium/webdriver/remote/webdriver.py?line=392'>393</a>\u001b[0m \u001b[39m    \"\"\"\u001b[39;00m\n\u001b[1;32m--> <a href='file:///c%3A/Users/ks_05/AppData/Local/Programs/Python/Python38-32/lib/site-packages/selenium/webdriver/remote/webdriver.py?line=393'>394</a>\u001b[0m     \u001b[39mreturn\u001b[39;00m \u001b[39mself\u001b[39;49m\u001b[39m.\u001b[39;49mfind_element(by\u001b[39m=\u001b[39;49mBy\u001b[39m.\u001b[39;49mXPATH, value\u001b[39m=\u001b[39;49mxpath)\n",
      "File \u001b[1;32m~\\AppData\\Local\\Programs\\Python\\Python38-32\\lib\\site-packages\\selenium\\webdriver\\remote\\webdriver.py:976\u001b[0m, in \u001b[0;36mWebDriver.find_element\u001b[1;34m(self, by, value)\u001b[0m\n\u001b[0;32m    <a href='file:///c%3A/Users/ks_05/AppData/Local/Programs/Python/Python38-32/lib/site-packages/selenium/webdriver/remote/webdriver.py?line=973'>974</a>\u001b[0m         by \u001b[39m=\u001b[39m By\u001b[39m.\u001b[39mCSS_SELECTOR\n\u001b[0;32m    <a href='file:///c%3A/Users/ks_05/AppData/Local/Programs/Python/Python38-32/lib/site-packages/selenium/webdriver/remote/webdriver.py?line=974'>975</a>\u001b[0m         value \u001b[39m=\u001b[39m \u001b[39m'\u001b[39m\u001b[39m[name=\u001b[39m\u001b[39m\"\u001b[39m\u001b[39m%s\u001b[39;00m\u001b[39m\"\u001b[39m\u001b[39m]\u001b[39m\u001b[39m'\u001b[39m \u001b[39m%\u001b[39m value\n\u001b[1;32m--> <a href='file:///c%3A/Users/ks_05/AppData/Local/Programs/Python/Python38-32/lib/site-packages/selenium/webdriver/remote/webdriver.py?line=975'>976</a>\u001b[0m \u001b[39mreturn\u001b[39;00m \u001b[39mself\u001b[39;49m\u001b[39m.\u001b[39;49mexecute(Command\u001b[39m.\u001b[39;49mFIND_ELEMENT, {\n\u001b[0;32m    <a href='file:///c%3A/Users/ks_05/AppData/Local/Programs/Python/Python38-32/lib/site-packages/selenium/webdriver/remote/webdriver.py?line=976'>977</a>\u001b[0m     \u001b[39m'\u001b[39;49m\u001b[39musing\u001b[39;49m\u001b[39m'\u001b[39;49m: by,\n\u001b[0;32m    <a href='file:///c%3A/Users/ks_05/AppData/Local/Programs/Python/Python38-32/lib/site-packages/selenium/webdriver/remote/webdriver.py?line=977'>978</a>\u001b[0m     \u001b[39m'\u001b[39;49m\u001b[39mvalue\u001b[39;49m\u001b[39m'\u001b[39;49m: value})[\u001b[39m'\u001b[39m\u001b[39mvalue\u001b[39m\u001b[39m'\u001b[39m]\n",
      "File \u001b[1;32m~\\AppData\\Local\\Programs\\Python\\Python38-32\\lib\\site-packages\\selenium\\webdriver\\remote\\webdriver.py:321\u001b[0m, in \u001b[0;36mWebDriver.execute\u001b[1;34m(self, driver_command, params)\u001b[0m\n\u001b[0;32m    <a href='file:///c%3A/Users/ks_05/AppData/Local/Programs/Python/Python38-32/lib/site-packages/selenium/webdriver/remote/webdriver.py?line=318'>319</a>\u001b[0m response \u001b[39m=\u001b[39m \u001b[39mself\u001b[39m\u001b[39m.\u001b[39mcommand_executor\u001b[39m.\u001b[39mexecute(driver_command, params)\n\u001b[0;32m    <a href='file:///c%3A/Users/ks_05/AppData/Local/Programs/Python/Python38-32/lib/site-packages/selenium/webdriver/remote/webdriver.py?line=319'>320</a>\u001b[0m \u001b[39mif\u001b[39;00m response:\n\u001b[1;32m--> <a href='file:///c%3A/Users/ks_05/AppData/Local/Programs/Python/Python38-32/lib/site-packages/selenium/webdriver/remote/webdriver.py?line=320'>321</a>\u001b[0m     \u001b[39mself\u001b[39;49m\u001b[39m.\u001b[39;49merror_handler\u001b[39m.\u001b[39;49mcheck_response(response)\n\u001b[0;32m    <a href='file:///c%3A/Users/ks_05/AppData/Local/Programs/Python/Python38-32/lib/site-packages/selenium/webdriver/remote/webdriver.py?line=321'>322</a>\u001b[0m     response[\u001b[39m'\u001b[39m\u001b[39mvalue\u001b[39m\u001b[39m'\u001b[39m] \u001b[39m=\u001b[39m \u001b[39mself\u001b[39m\u001b[39m.\u001b[39m_unwrap_value(\n\u001b[0;32m    <a href='file:///c%3A/Users/ks_05/AppData/Local/Programs/Python/Python38-32/lib/site-packages/selenium/webdriver/remote/webdriver.py?line=322'>323</a>\u001b[0m         response\u001b[39m.\u001b[39mget(\u001b[39m'\u001b[39m\u001b[39mvalue\u001b[39m\u001b[39m'\u001b[39m, \u001b[39mNone\u001b[39;00m))\n\u001b[0;32m    <a href='file:///c%3A/Users/ks_05/AppData/Local/Programs/Python/Python38-32/lib/site-packages/selenium/webdriver/remote/webdriver.py?line=323'>324</a>\u001b[0m     \u001b[39mreturn\u001b[39;00m response\n",
      "File \u001b[1;32m~\\AppData\\Local\\Programs\\Python\\Python38-32\\lib\\site-packages\\selenium\\webdriver\\remote\\errorhandler.py:242\u001b[0m, in \u001b[0;36mErrorHandler.check_response\u001b[1;34m(self, response)\u001b[0m\n\u001b[0;32m    <a href='file:///c%3A/Users/ks_05/AppData/Local/Programs/Python/Python38-32/lib/site-packages/selenium/webdriver/remote/errorhandler.py?line=239'>240</a>\u001b[0m         alert_text \u001b[39m=\u001b[39m value[\u001b[39m'\u001b[39m\u001b[39malert\u001b[39m\u001b[39m'\u001b[39m]\u001b[39m.\u001b[39mget(\u001b[39m'\u001b[39m\u001b[39mtext\u001b[39m\u001b[39m'\u001b[39m)\n\u001b[0;32m    <a href='file:///c%3A/Users/ks_05/AppData/Local/Programs/Python/Python38-32/lib/site-packages/selenium/webdriver/remote/errorhandler.py?line=240'>241</a>\u001b[0m     \u001b[39mraise\u001b[39;00m exception_class(message, screen, stacktrace, alert_text)\n\u001b[1;32m--> <a href='file:///c%3A/Users/ks_05/AppData/Local/Programs/Python/Python38-32/lib/site-packages/selenium/webdriver/remote/errorhandler.py?line=241'>242</a>\u001b[0m \u001b[39mraise\u001b[39;00m exception_class(message, screen, stacktrace)\n",
      "\u001b[1;31mNoSuchElementException\u001b[0m: Message: no such element: Unable to locate element: {\"method\":\"xpath\",\"selector\":\"//div[@class='_1c8_1ITO']\"}\n  (Session info: chrome=98.0.4758.102)\n"
     ]
    }
   ],
   "source": [
    "attractions = pd.read_csv('attractions.csv', index_col=0)\n",
    "options = webdriver.ChromeOptions()\n",
    "options.add_experimental_option('excludeSwitches', ['enable-logging'])\n",
    "driver = webdriver.Chrome(options=options)\n",
    "\n",
    "for i, attraction in attractions.iterrows():\n",
    "    url = attraction['name']\n",
    "    # print(url)\n",
    "    if attraction['done'] > 0:\n",
    "        continue\n",
    "    driver.get(url)\n",
    "    attraction_name = driver.find_element_by_xpath(\"//h1[@data-automation='mainH1']\").text\n",
    "\n",
    "    print(attraction_name)\n",
    "    isRun = True\n",
    "    while isRun:\n",
    "        isRun = False\n",
    "        columns = ['page', 'user', 'country', 'date_post', 'date_stay', 'rating', 'title', 'review_text']\n",
    "        try:\n",
    "            reviews = pd.read_csv(\"reviews_\" + attraction_name + \".csv\", index_col=False)\n",
    "            if len(reviews) == 0:\n",
    "                page = 1\n",
    "            else:\n",
    "                page = int(reviews.tail(1)['page']) + 1\n",
    "        except FileNotFoundError as e:\n",
    "            reviews = pd.DataFrame(columns=columns)\n",
    "            reviews.to_csv(\"reviews_\" + attraction_name + \".csv\", index=False)\n",
    "            page = 0\n",
    "\n",
    "        # driver.get(get_url_at_page(url, page))\n",
    "        # change the value inside the range to save more or less reviews\n",
    "        isStop = False\n",
    "        while not isStop:\n",
    "            # expand the review\n",
    "            time.sleep(0.6)\n",
    "            try:\n",
    "                # isExpand = True\n",
    "                # while isExpand:\n",
    "                #     try:\n",
    "                #         driver.find_element_by_xpath(\".//span[@class='_1l3JzGX1']\").click()\n",
    "                #         isExpand = False\n",
    "                #     except ElementNotInteractableException as e1:\n",
    "                #         time.sleep(0.3)\n",
    "                #     except NoSuchElementException as e2:\n",
    "                #         next_page(driver)\n",
    "                #         isExpand = False\n",
    "                container = driver.find_element_by_xpath(\"//div[@class='_1c8_1ITO']\")\n",
    "                reviews_list = container.find_elements_by_xpath(\"./*\")\n",
    "\n",
    "                for j in range(len(reviews_list[:-1])):\n",
    "                    # sort data out\n",
    "                    details = reviews_list[j].text.split(\"\\n\")\n",
    "                    print(details)\n",
    "                    user = details[0]\n",
    "                    country = ''.join([i for i in details[1].split(\"contributions\",1)[0] if not i.isdigit()])\n",
    "                    date_post = details[details.index(\"This review is the subjective opinion of a Tripadvisor member and not of Tripadvisor LLC.\")-1].split(\" \",1)[1]\n",
    "                    rating = reviews_list[j].find_elements_by_tag_name(\"svg\")[2].get_attribute('title').split(\" \")[0]\n",
    "                    title = details[3]\n",
    "                    date_stay = details[4]\n",
    "                    review_text = \"\".join([i for i in details[5:details.index(\"This review is the subjective opinion of a Tripadvisor member and not of Tripadvisor LLC.\")-1]])\n",
    "                    review_text = review_text.split(\"Read more\",1)[0]\n",
    "                    print(review_text)\n",
    "                    new_entry = pd.DataFrame(\n",
    "                        [[page, user, country, date_post, date_stay, rating, title, review_text]],\n",
    "                        columns=columns)\n",
    "                    # print(new_entry)\n",
    "                    # if not (date_post[-4:-2] == \"20\" and int(date_post[-4:]) < 2018): # date stop condition\n",
    "                    #     new_entry.to_csv(\"reviews_\" + attraction_name + \".csv\", mode='a', header=False, index=False)\n",
    "                    new_entry.to_csv(\"reviews_\" + attraction_name + \".csv\", mode='a', header=False, index=False)\n",
    "                    # if date_post[-4:-2] == \"20\" and int(date_post[-4:]) < 2018:\n",
    "                    #     isStop = True\n",
    "                    #     break\n",
    "                if next_page(driver):\n",
    "                    break\n",
    "                page += 1\n",
    "            except StaleElementReferenceException as e:\n",
    "                print('stale')\n",
    "                isRun = True\n",
    "                break\n",
    "    attractions.loc[i, 'done'] = len(pd.read_csv(\"reviews_\" + attraction_name + \".csv\"))\n",
    "    attractions.to_csv('attractions.csv')\n"
   ]
  },
  {
   "cell_type": "code",
   "execution_count": null,
   "metadata": {},
   "outputs": [],
   "source": []
  }
 ],
 "metadata": {
  "interpreter": {
   "hash": "264273666cf10ed2ed37cf2523039be43aacc87b37996f00919ee5b31f89290d"
  },
  "kernelspec": {
   "display_name": "Python 3.7.6 ('base')",
   "language": "python",
   "name": "python3"
  },
  "language_info": {
   "codemirror_mode": {
    "name": "ipython",
    "version": 3
   },
   "file_extension": ".py",
   "mimetype": "text/x-python",
   "name": "python",
   "nbconvert_exporter": "python",
   "pygments_lexer": "ipython3",
   "version": "3.8.3"
  },
  "orig_nbformat": 4
 },
 "nbformat": 4,
 "nbformat_minor": 2
}
